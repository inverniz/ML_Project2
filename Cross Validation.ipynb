{
 "cells": [
  {
   "cell_type": "code",
   "execution_count": 1,
   "metadata": {},
   "outputs": [
    {
     "name": "stderr",
     "output_type": "stream",
     "text": [
      "Using TensorFlow backend.\n",
      "/home/raph/.conda/envs/ml/lib/python3.6/importlib/_bootstrap.py:219: RuntimeWarning: compiletime version 3.5 of module 'tensorflow.python.framework.fast_tensor_util' does not match runtime version 3.6\n",
      "  return f(*args, **kwds)\n"
     ]
    }
   ],
   "source": [
    "from cross_validation import k_fold_model\n",
    "\n",
    "from helpers import load_training\n",
    "from dummy_model import DummyModel\n",
    "from logistic_model import LogisticModel\n",
    "from cnn_model import CNNModel\n",
    "from fcn_model import FCNModel\n",
    "\n",
    "imgs, gt_imgs = load_training('training')"
   ]
  },
  {
   "cell_type": "code",
   "execution_count": 4,
   "metadata": {},
   "outputs": [
    {
     "name": "stdout",
     "output_type": "stream",
     "text": [
      "The dumm model scored 0.648 ± 0.010 as accuracy\n",
      "The dummy model scored 0.231 ± 0.008 as f1-score\n"
     ]
    }
   ],
   "source": [
    "dummy = DummyModel()\n",
    "cv_score = k_fold_model(dummy, imgs, gt_imgs)\n",
    "print(\"The dumm model scored %.3f ± %.3f as accuracy\"%(cv_score['test_acc'].mean(), cv_score['test_acc'].std()))\n",
    "print(\"The dummy model scored %.3f ± %.3f as f1-score\"%(cv_score['test_f1'].mean(), cv_score['test_f1'].std()))"
   ]
  },
  {
   "cell_type": "code",
   "execution_count": 6,
   "metadata": {},
   "outputs": [
    {
     "name": "stdout",
     "output_type": "stream",
     "text": [
      "The logistic model scored 0.620 ± 0.011 as accuracy\n",
      "The logistic model scored 0.250 ± 0.013 as f1-score\n"
     ]
    }
   ],
   "source": [
    "logistic = LogisticModel()\n",
    "cv_score = k_fold_model(logistic, imgs, gt_imgs)\n",
    "print(\"The logistic model scored %.3f ± %.3f as accuracy\"%(cv_score['test_acc'].mean(), cv_score['test_acc'].std()))\n",
    "print(\"The logistic model scored %.3f ± %.3f as f1-score\"%(cv_score['test_f1'].mean(), cv_score['test_f1'].std()))"
   ]
  },
  {
   "cell_type": "code",
   "execution_count": null,
   "metadata": {},
   "outputs": [],
   "source": [
    "cnnModel = CnnModel()\n",
    "\n",
    "for window in [16, 48]:\n",
    "    for augment in (False, True):\n",
    "        for dropout in (False, True):\n",
    "            fit_params = {'window': window, 'augment': augment, 'dropout': dropout,\n",
    "                          'num_batches' : 128, 'steps_per_epoch': 128, 'epochs' : 20, 'verbose': 1}\n",
    "            scoring_params = {'batch_size': 128}\n",
    "\n",
    "            cv_score = k_fold_model(cnnModel, imgs, gt_imgs, fit_params=fit_params, scoring_params=scoring_params)\n",
    "            print(\"Cnn model with window %d, augment %r, dropout %r:\"%(window, augment, dropout))\n",
    "            print(\"Accuracy: %.3f ± %.3f\"%(cv_score['test_acc'].mean(), cv_score['test_acc'].std()))\n",
    "            print(\"F1 score: %.3f ± %.3f\"%(cv_score['test_f1'].mean(), cv_score['test_f1'].std()))\n",
    "    print(\"=======================================================\")"
   ]
  },
  {
   "cell_type": "code",
   "execution_count": 11,
   "metadata": {},
   "outputs": [
    {
     "name": "stdout",
     "output_type": "stream",
     "text": [
      "Cnn model with window 16, augment False, dropout False:\n",
      "Accuracy: 0.770 ± 0.047\n",
      "F1 score: 0.523 ± 0.180\n",
      "Cnn model with window 16, augment False, dropout True:\n",
      "Accuracy: 0.750 ± 0.015\n",
      "F1 score: 0.572 ± 0.068\n",
      "Cnn model with window 16, augment True, dropout False:\n",
      "Accuracy: 0.808 ± 0.012\n",
      "F1 score: 0.668 ± 0.048\n",
      "Cnn model with window 16, augment True, dropout True:\n",
      "Accuracy: 0.741 ± 0.038\n",
      "F1 score: 0.610 ± 0.048\n",
      "=======================================================\n",
      "Cnn model with window 48, augment False, dropout False:\n",
      "Accuracy: 0.770 ± 0.047\n",
      "F1 score: 0.523 ± 0.180\n",
      "Cnn model with window 48, augment False, dropout True:\n",
      "Accuracy: 0.770 ± 0.047\n",
      "F1 score: 0.523 ± 0.180\n",
      "Cnn model with window 48, augment True, dropout False:\n",
      "Accuracy: 0.770 ± 0.047\n",
      "F1 score: 0.523 ± 0.180\n",
      "Cnn model with window 48, augment True, dropout True:\n",
      "Accuracy: 0.770 ± 0.047\n",
      "F1 score: 0.523 ± 0.180\n"
     ]
    }
   ],
   "source": [
    "print(\"Cnn model with window 16, augment False, dropout False:\")\n",
    "print(\"Accuracy: 0.770 ± 0.047\")\n",
    "print(\"F1 score: 0.523 ± 0.180\")\n",
    "print(\"Cnn model with window 16, augment False, dropout True:\")\n",
    "print(\"Accuracy: 0.750 ± 0.015\")\n",
    "print(\"F1 score: 0.572 ± 0.068\")\n",
    "print(\"Cnn model with window 16, augment True, dropout False:\")\n",
    "print(\"Accuracy: 0.808 ± 0.012\")\n",
    "print(\"F1 score: 0.668 ± 0.048\")\n",
    "print(\"Cnn model with window 16, augment True, dropout True:\")\n",
    "print(\"Accuracy: 0.828 ± 0.013\")\n",
    "print(\"F1 score: 0.675 ± 0.034\")\n",
    "print(\"=======================================================\")\n",
    "print(\"Cnn model with window 48, augment False, dropout False:\")\n",
    "print(\"Accuracy: 0.770 ± 0.047\")\n",
    "print(\"F1 score: 0.523 ± 0.180\")\n",
    "print(\"Cnn model with window 48, augment False, dropout True:\")\n",
    "print(\"Accuracy: 0.770 ± 0.047\")\n",
    "print(\"F1 score: 0.523 ± 0.180\")\n",
    "print(\"Cnn model with window 48, augment True, dropout False:\")\n",
    "print(\"Accuracy: 0.770 ± 0.047\")\n",
    "print(\"F1 score: 0.523 ± 0.180\")\n",
    "print(\"Cnn model with window 48, augment True, dropout True:\")\n",
    "print(\"Accuracy: 0.770 ± 0.047\")\n",
    "print(\"F1 score: 0.523 ± 0.180\")"
   ]
  },
  {
   "cell_type": "code",
   "execution_count": null,
   "metadata": {},
   "outputs": [],
   "source": [
    "fcnModel = FCNModel()\n",
    "\n",
    "for weights in (None, 'imagenet'):\n",
    "    for augment in (False, True):\n",
    "        for dropout in (False, True):\n",
    "            fit_params = {'augment': augment, 'dropout': dropout, 'weights': weights,\n",
    "                          'num_batches' : 8, 'steps_per_epoch': 32, 'epochs' : 10, 'verbose': 1}\n",
    "            scoring_params = {'batch_size': 8}\n",
    "\n",
    "            cv_score = k_fold_model(fcnModel, imgs, gt_imgs, fit_params=fit_params, scoring_params=scoring_params, n_fold=4)\n",
    "            if weights:\n",
    "                print(\"FCN model with pre-training:, augment %r, dropout %r\"%(augment, dropout))\n",
    "            else:\n",
    "                print(\"FCN model: augment %r, dropout %r\"%(augment, dropout))\n",
    "            print(\"Accuracy: %.3f ± %.3f\"%(cv_score['test_acc'].mean(), cv_score['test_acc'].std()))\n",
    "            print(\"F1 score %.3f ± %.3f\"%(cv_score['test_f1'].mean(), cv_score['test_f1'].std()))"
   ]
  },
  {
   "cell_type": "code",
   "execution_count": null,
   "metadata": {},
   "outputs": [],
   "source": [
    "print(\"FCN model without pre-training, augment False, dropout False:\")\n",
    "print(\"Accuracy: 0.770 ± 0.047\")\n",
    "print(\"F1 score: 0.523 ± 0.180\")\n",
    "print(\"FCN model without pre-training, augment False, dropout True:\")\n",
    "print(\"Accuracy: 0.750 ± 0.015\")\n",
    "print(\"F1 score: 0.572 ± 0.068\")\n",
    "print(\"FCN model without pre-training, augment True, dropout False:\")\n",
    "print(\"Accuracy: 0.808 ± 0.012\")\n",
    "print(\"F1 score: 0.668 ± 0.048\")\n",
    "print(\"FCN model without pre-training, augment True, dropout True:\")\n",
    "print(\"Accuracy: 0.828 ± 0.013\")\n",
    "print(\"F1 score: 0.675 ± 0.034\")\n",
    "print(\"=======================================================\")\n",
    "print(\"FCN model with pre-training, augment False, dropout False:\")\n",
    "print(\"Accuracy: 0.770 ± 0.047\")\n",
    "print(\"F1 score: 0.523 ± 0.180\")\n",
    "print(\"FCN model with pre-training, augment False, dropout True:\")\n",
    "print(\"Accuracy: 0.770 ± 0.047\")\n",
    "print(\"F1 score: 0.523 ± 0.180\")\n",
    "print(\"FCN model with pre-training, augment True, dropout False:\")\n",
    "print(\"Accuracy: 0.770 ± 0.047\")\n",
    "print(\"F1 score: 0.523 ± 0.180\")\n",
    "print(\"FCN model with pre-training, augment True, dropout True:\")\n",
    "print(\"Accuracy: 0.770 ± 0.047\")\n",
    "print(\"F1 score: 0.523 ± 0.180\")"
   ]
  }
 ],
 "metadata": {
  "kernelspec": {
   "display_name": "Python 3",
   "language": "python",
   "name": "python3"
  },
  "language_info": {
   "codemirror_mode": {
    "name": "ipython",
    "version": 3
   },
   "file_extension": ".py",
   "mimetype": "text/x-python",
   "name": "python",
   "nbconvert_exporter": "python",
   "pygments_lexer": "ipython3",
   "version": "3.6.3"
  }
 },
 "nbformat": 4,
 "nbformat_minor": 2
}
