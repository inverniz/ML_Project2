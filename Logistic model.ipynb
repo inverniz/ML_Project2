{
 "cells": [
  {
   "cell_type": "code",
   "execution_count": 17,
   "metadata": {},
   "outputs": [
    {
     "name": "stdout",
     "output_type": "stream",
     "text": [
      "The autoreload extension is already loaded. To reload it, use:\n",
      "  %reload_ext autoreload\n"
     ]
    }
   ],
   "source": [
    "%matplotlib inline\n",
    "%load_ext autoreload\n",
    "%autoreload 2\n",
    "import matplotlib.image as mpimg\n",
    "import numpy as np\n",
    "import matplotlib.pyplot as plt\n",
    "import os,sys\n",
    "from PIL import Image\n",
    "from helpers import *\n",
    "from sklearn.linear_model import LogisticRegression\n",
    "from sklearn.preprocessing import PolynomialFeatures\n",
    "from sklearn.metrics import f1_score, accuracy_score\n",
    "from sklearn.model_selection import cross_validate"
   ]
  },
  {
   "cell_type": "code",
   "execution_count": 18,
   "metadata": {},
   "outputs": [],
   "source": [
    "class LogisticModel:\n",
    "    def __init__(self, **args):\n",
    "        self.patch_size = 16 # Size of a patch 16x16 pixels\n",
    "        self.poly_aug = 5 # Degree of the polynomical augmentation\n",
    "        self.logreg = LogisticRegression(C=1e5, class_weight=\"balanced\")\n",
    "    \n",
    "    # Extract 6-dimensional features consisting of average RGB color as well as variance\n",
    "    def extract_features(self, img):\n",
    "        feat_m = np.mean(img, axis=(0,1))\n",
    "        feat_v = np.var(img, axis=(0,1))\n",
    "        feat = np.append(feat_m, feat_v)\n",
    "        return feat\n",
    "\n",
    "    # Extract features for a given image\n",
    "    def extract_img_features(self, filename):\n",
    "        img = load_image(filename)\n",
    "        img_patches = img_crop(img, patch_size, patch_size)\n",
    "        X = np.asarray([self.extract_features(img_patches[i]) for i in range(len(img_patches))])\n",
    "        return X\n",
    "    \n",
    "    def fit(self, imgs, gt_imgs):\n",
    "        \n",
    "        img_patches = crop_imgs(imgs, self.patch_size, self.patch_size)\n",
    "        gt_patches = crop_imgs(gt_imgs, self.patch_size, self.patch_size)\n",
    "\n",
    "        X = np.asarray([self.extract_features(img_patches[i]) for i in range(len(img_patches))])\n",
    "        Y = np.asarray([crop_to_class(gt_patches[i]) for i in range(len(gt_patches))])\n",
    "        poly = PolynomialFeatures(self.poly_aug, interaction_only=False)\n",
    "        X = poly.fit_transform(X)\n",
    "        self.logreg.fit(X, Y)\n",
    "        \n",
    "    def predict(self, imgs):\n",
    "        # If we have a signle image, reshape it\n",
    "        if len(imgs.shape) < 4:\n",
    "            imgs = imgs.reshape(1, imgs.shape[0], imgs.shape[1], imgs.shape[2])\n",
    "        img_patches = crop_imgs(imgs, self.patch_size, self.patch_size)\n",
    "        X = np.asarray([self.extract_features(img_patches[i]) for i in range(len(img_patches))])\n",
    "        poly = PolynomialFeatures(self.poly_aug, interaction_only=False)\n",
    "        X = poly.fit_transform(X)\n",
    "        return self.logreg.predict(X)\n",
    "    \n",
    "    def get_params(self, deep=True):\n",
    "        return self.logreg.get_params(deep)\n",
    "    \n",
    "    def set_params(self, **params):\n",
    "        return self.logreg.set_params(params)"
   ]
  },
  {
   "cell_type": "code",
   "execution_count": 28,
   "metadata": {},
   "outputs": [
    {
     "name": "stdout",
     "output_type": "stream",
     "text": [
      "The dummy model scored 0.579 ± 0.021 as f1-score\n",
      "The dummy model scored 0.706 ± 0.007 as accuracy\n"
     ]
    }
   ],
   "source": [
    "from cross_validation import k_fold_model\n",
    "imgs, gt_imgs = load_training('training')\n",
    "logistic = LogisticModel()\n",
    "cv_score = k_fold_model(logistic, imgs, gt_imgs)\n",
    "print(\"The logistic model scored %.3f ± %.3f as f1-score\"%(cv_score['test_f1'].mean(), cv_score['test_f1'].std()))\n",
    "print(\"The logistic model scored %.3f ± %.3f as accuracy\"%(cv_score['test_acc'].mean(), cv_score['test_acc'].std()))"
   ]
  },
  {
   "cell_type": "code",
   "execution_count": 24,
   "metadata": {},
   "outputs": [],
   "source": [
    "class DummyModel:\n",
    "    def __init__(self, **args):\n",
    "        pass\n",
    "    \n",
    "    def fit(self, imgs, gt_imgs):\n",
    "        pass\n",
    "        \n",
    "    def predict(self, imgs):\n",
    "        np.random.seed(42)\n",
    "        return (np.random.rand((imgs.shape[0]*imgs.shape[1]//16*imgs.shape[2]//16)) > 0.75).astype(int)\n",
    "    \n",
    "    def get_params(self, deep=True):\n",
    "        return {'x': None}\n",
    "    \n",
    "    def set_params(self, **params):\n",
    "        pass"
   ]
  },
  {
   "cell_type": "code",
   "execution_count": 26,
   "metadata": {},
   "outputs": [
    {
     "name": "stdout",
     "output_type": "stream",
     "text": [
      "The dummy model scored 0.250 ± 0.013 as f1-score\n",
      "The dummy model scored 0.620 ± 0.011 as accuracy\n"
     ]
    }
   ],
   "source": [
    "from cross_validation import k_fold_model\n",
    "imgs, gt_imgs = load_training('training')\n",
    "dummy = DummyModel()\n",
    "cv_score = k_fold_model(dummy, imgs, gt_imgs)\n",
    "print(\"The dummy model scored %.3f ± %.3f as f1-score\"%(cv_score['test_f1'].mean(), cv_score['test_f1'].std()))\n",
    "print(\"The dummy model scored %.3f ± %.3f as accuracy\"%(cv_score['test_acc'].mean(), cv_score['test_acc'].std()))"
   ]
  },
  {
   "cell_type": "code",
   "execution_count": null,
   "metadata": {},
   "outputs": [],
   "source": []
  }
 ],
 "metadata": {
  "kernelspec": {
   "display_name": "Python 3",
   "language": "python",
   "name": "python3"
  },
  "language_info": {
   "codemirror_mode": {
    "name": "ipython",
    "version": 3
   },
   "file_extension": ".py",
   "mimetype": "text/x-python",
   "name": "python",
   "nbconvert_exporter": "python",
   "pygments_lexer": "ipython3",
   "version": "3.6.3"
  }
 },
 "nbformat": 4,
 "nbformat_minor": 2
}
